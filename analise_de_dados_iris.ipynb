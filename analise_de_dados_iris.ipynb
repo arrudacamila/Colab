{
  "nbformat": 4,
  "nbformat_minor": 0,
  "metadata": {
    "colab": {
      "provenance": [],
      "include_colab_link": true
    },
    "kernelspec": {
      "name": "python3",
      "display_name": "Python 3"
    },
    "language_info": {
      "name": "python"
    }
  },
  "cells": [
    {
      "cell_type": "markdown",
      "metadata": {
        "id": "view-in-github",
        "colab_type": "text"
      },
      "source": [
        "<a href=\"https://colab.research.google.com/github/arrudacamila/Colab/blob/main/analise_de_dados_iris.ipynb\" target=\"_parent\"><img src=\"https://colab.research.google.com/assets/colab-badge.svg\" alt=\"Open In Colab\"/></a>"
      ]
    },
    {
      "cell_type": "markdown",
      "source": [
        "# **Exploração ou Análise de Dados**\n",
        "Apoia a aprendizagem de máquina. É possível usar a estatística descritiva resumindo de forma quantitativa as principais características de um conjunto de dados. Informações que podem ser capturadas:\n",
        "-Visualização em forma de tabela ou gráfico\n",
        "-Frequência\n",
        "-Localização ou tendência central\n",
        "-Dispersão ou espalhamento\n",
        "-Distribuição ou formato"
      ],
      "metadata": {
        "id": "3so-kjfmFrhe"
      }
    },
    {
      "cell_type": "code",
      "execution_count": null,
      "metadata": {
        "id": "is6S2Oe1FZpB"
      },
      "outputs": [],
      "source": [
        "# Instala a biblioteca apra gerar gráficos.\n",
        "! pip install plotly --upgrade"
      ]
    },
    {
      "cell_type": "code",
      "source": [
        "#para organização dos dados em um dataframe e manipulação de listas\n",
        "import pandas as pd\n",
        "import numpy as np\n",
        "\n",
        "#para os gráficos\n",
        "import seaborn as sns\n",
        "import matplotlib.pyplot as plt\n",
        "import plotly.express as px\n",
        "#para acesso ao drive\n",
        "from google.colab import drive\n",
        "\n",
        "#para preparar os dados\n",
        "from sklearn.model_selection import train_test_split #divisão dos dados para treinamento e teste\n",
        "from sklearn.preprocessing import LabelEncoder   #para transformar Strings em números inteiros\n",
        "from sklearn.preprocessing import StandardScaler #para a padronização dos dados\n",
        "\n",
        "#para redes neurais\n",
        "from sklearn.neural_network import MLPClassifier #rede neural\n",
        "from sklearn.metrics import accuracy_score       #avaliação do modelo\n",
        "import tensorflow as tf\n",
        "from tensorflow.keras.models import Sequential\n",
        "from tensorflow.keras.layers import Dense\n",
        "\n",
        "#para gravar um modelo gerado por aprendizagem de máquina\n",
        "from tensorflow.keras.models import load_model"
      ],
      "metadata": {
        "id": "paxmRaJ_HpWi"
      },
      "execution_count": null,
      "outputs": []
    },
    {
      "cell_type": "markdown",
      "source": [
        "# **Cria o acesso ao drive do google**"
      ],
      "metadata": {
        "id": "V6BheTEFIUKH"
      }
    },
    {
      "cell_type": "code",
      "source": [
        "drive.mount('/content/drive')"
      ],
      "metadata": {
        "id": "eyRfLGBVISTv"
      },
      "execution_count": null,
      "outputs": []
    },
    {
      "cell_type": "code",
      "source": [
        "#Abrir o arquivo\n",
        "base = pd.read_csv('/content/drive/MyDrive/dados/Iris.csv')"
      ],
      "metadata": {
        "id": "I0UO_d6-LLLh"
      },
      "execution_count": null,
      "outputs": []
    },
    {
      "cell_type": "code",
      "source": [
        "#consulta o arquivo\n",
        "base"
      ],
      "metadata": {
        "id": "00EuJK7mMwJl"
      },
      "execution_count": null,
      "outputs": []
    },
    {
      "cell_type": "code",
      "source": [
        "base[base['Species']=='Iris-versicolor']"
      ],
      "metadata": {
        "id": "a2LeEK6FgVbW"
      },
      "execution_count": null,
      "outputs": []
    },
    {
      "cell_type": "code",
      "source": [
        "#consultar as 10 primeiras linhas\n",
        "base.head(10)"
      ],
      "metadata": {
        "id": "9r_KtinHOGwg"
      },
      "execution_count": null,
      "outputs": []
    },
    {
      "cell_type": "code",
      "source": [
        "#consultar as 10 últimas linhas\n",
        "base.tail(10)"
      ],
      "metadata": {
        "id": "isImOiYBOaEE"
      },
      "execution_count": null,
      "outputs": []
    },
    {
      "cell_type": "code",
      "source": [
        "#consultar indicadores de estatística descritiva\n",
        "base.describe()"
      ],
      "metadata": {
        "id": "wWi45ycbOm2V"
      },
      "execution_count": null,
      "outputs": []
    },
    {
      "cell_type": "code",
      "source": [
        "#consultar o título das colunas\n",
        "colunas = base.columns\n",
        "colunas"
      ],
      "metadata": {
        "id": "V5W5JJdUWj-O"
      },
      "execution_count": null,
      "outputs": []
    },
    {
      "cell_type": "code",
      "source": [
        "#lista de valores sem repetição para as colunas de dados categóricos que sejam do tipo String\n",
        "lista_tipo = set(base['Species'])\n",
        "lista_tipo"
      ],
      "metadata": {
        "id": "0xTGHCvZXYe7"
      },
      "execution_count": null,
      "outputs": []
    },
    {
      "cell_type": "code",
      "source": [
        "#cria lista com variável numérica\n",
        "sepalLen = base['SepalLengthCm'].tolist()\n",
        "sepalLen.sort()\n",
        "sepalLen"
      ],
      "metadata": {
        "id": "HrOw9XgGZVO3"
      },
      "execution_count": null,
      "outputs": []
    },
    {
      "cell_type": "code",
      "source": [
        "#cria lista com variável numérica\n",
        "sepalWid = base['SepalWidthCm'].tolist()\n",
        "sepalWid.sort()\n",
        "sepalWid"
      ],
      "metadata": {
        "id": "vt81xCmspaHZ"
      },
      "execution_count": null,
      "outputs": []
    },
    {
      "cell_type": "code",
      "source": [
        "#cria lista com variável numérica\n",
        "petalLen = base['PetalLengthCm'].tolist()\n",
        "petalLen.sort()\n",
        "petalLen"
      ],
      "metadata": {
        "id": "ZS9Q9VH4poEc"
      },
      "execution_count": null,
      "outputs": []
    },
    {
      "cell_type": "code",
      "source": [
        "#cria lista com variável numérica\n",
        "petalWid = base['PetalWidthCm'].tolist()\n",
        "petalWid.sort()\n",
        "petalWid"
      ],
      "metadata": {
        "id": "NtkkxiVip-ad"
      },
      "execution_count": null,
      "outputs": []
    },
    {
      "cell_type": "markdown",
      "source": [
        "O boxplot (gráfico de caixa) é uma representação gráfica que resume a distribuição de um conjunto de dados através de suas estatísticas descritivas principais: limite inferior, primeiro quartil (Q1), mediana (Q2), terceiro quartil (Q3) e limite superior. Durante as análises exploratórias de dados, ele ajuda a identificar padrões, tendências e anomalias, como outliers.\n",
        "\n",
        "Componentes de um Boxplot\n",
        "*   Caixa (Box): Representa o intervalo entre o primeiro quartil (Q1) e o terceiro quartil (Q3). A parte inferior da caixa corresponde a Q1 (25% dos dados), e a parte superior corresponde a Q3 (75% dos dados);\n",
        "*   Mediana (Linha dentro da caixa): A linha no interior da caixa representa a mediana (Q2), que é o valor central dos dados (50%).\n",
        "\n",
        "*   Bigodes (Whiskers): As linhas horizontais superior e inferior, também conhecidas como \"Bigodes\" são extensões que saem da caixa e mostram a variação dos dados fora dos quartis.\n",
        "E os valores acima dos \"Bigodes\" são considerados outliers.\n",
        "*   Outliers (Pontos fora dos bigodes): Os pontos que podem aparecer além dos limites dos bigodes são identificados como outliers que representam valores que desviam significativamente do padrão geral."
      ],
      "metadata": {
        "id": "h_OBRMc30iCf"
      }
    },
    {
      "cell_type": "code",
      "source": [
        "# Removendo valores NaN (se houver)\n",
        "dados = [x for x in sepalLen if str(x) != 'nan']\n",
        "\n",
        "# Plotando o boxplot\n",
        "plt.figure(figsize=(8, 6))\n",
        "plt.boxplot(dados)\n",
        "plt.title('Boxplot dos dados')\n",
        "plt.xlabel('Conjunto de dados')\n",
        "plt.ylabel('Valores')\n",
        "plt.grid(True)\n",
        "plt.show()"
      ],
      "metadata": {
        "id": "tgIUH4L3qiWT"
      },
      "execution_count": null,
      "outputs": []
    },
    {
      "cell_type": "code",
      "source": [
        "# Removendo valores NaN (se houver)\n",
        "dados = [x for x in sepalWid if str(x) != 'nan']\n",
        "\n",
        "# Plotando o boxplot\n",
        "plt.figure(figsize=(8, 6))\n",
        "plt.boxplot(dados)\n",
        "plt.title('Boxplot dos dados')\n",
        "plt.xlabel('Conjunto de dados')\n",
        "plt.ylabel('Valores')\n",
        "plt.grid(True)\n",
        "plt.show()"
      ],
      "metadata": {
        "id": "gOcRzDtNqr2O"
      },
      "execution_count": null,
      "outputs": []
    },
    {
      "cell_type": "code",
      "source": [
        "# Removendo valores NaN (se houver)\n",
        "dados = [x for x in petalLen if str(x) != 'nan']\n",
        "\n",
        "# Plotando o boxplot\n",
        "plt.figure(figsize=(8, 6))\n",
        "plt.boxplot(dados)\n",
        "plt.title('Boxplot dos dados')\n",
        "plt.xlabel('Conjunto de dados')\n",
        "plt.ylabel('Valores')\n",
        "plt.grid(True)\n",
        "plt.show()"
      ],
      "metadata": {
        "id": "T9qjocs-qxK2"
      },
      "execution_count": null,
      "outputs": []
    },
    {
      "cell_type": "code",
      "source": [
        "# Removendo valores NaN (se houver)\n",
        "dados = [x for x in petalWid if str(x) != 'nan']\n",
        "\n",
        "# Plotando o boxplot\n",
        "plt.figure(figsize=(8, 6))\n",
        "plt.boxplot(dados)\n",
        "plt.title('Boxplot dos dados')\n",
        "plt.xlabel('Conjunto de dados')\n",
        "plt.ylabel('Valores')\n",
        "plt.grid(True)\n",
        "plt.show()"
      ],
      "metadata": {
        "id": "W5Dl8VSbq26G"
      },
      "execution_count": null,
      "outputs": []
    },
    {
      "cell_type": "code",
      "source": [
        "# Distribuição das variáveis\n",
        "sns.histplot(base[\"Species\"], kde=True)"
      ],
      "metadata": {
        "id": "vfDOdzlGlIsO"
      },
      "execution_count": null,
      "outputs": []
    },
    {
      "cell_type": "code",
      "source": [
        "# Definindo largura e altura da figura\n",
        "plt.figure(figsize=(18, 6))\n",
        "# Criando o countplot com seaborn, ajustando a largura da coluna (width) e ajustando o espaçamento entre as colunas (dodge)\n",
        "grafico = sns.countplot(x=base['SepalLengthCm'], width=0.5, dodge=3.0)\n",
        "# Definindo a fonte da legenda do eixo x\n",
        "grafico.set_xticklabels(grafico.get_xticklabels(), fontdict={'fontsize': 10, 'fontweight': 'bold', 'fontfamily': 'serif'})\n",
        "# Definindo a fonte da legenda do eixo y\n",
        "grafico.set_yticklabels(grafico.get_yticklabels(), fontdict={'fontsize': 14, 'fontweight': 'bold', 'fontfamily': 'serif'})\n"
      ],
      "metadata": {
        "id": "jkXgdfip4Dlb"
      },
      "execution_count": null,
      "outputs": []
    },
    {
      "cell_type": "code",
      "source": [
        "# Definindo largura e altura da figura\n",
        "plt.figure(figsize=(18, 6))\n",
        "# Criando o countplot com seaborn, ajustando a largura da coluna (width) e ajustando o espaçamento entre as colunas (dodge)\n",
        "grafico = sns.countplot(x=base['SepalWidthCm'], width=0.5, dodge=3.0)\n",
        "# Definindo a fonte da legenda do eixo x\n",
        "grafico.set_xticklabels(grafico.get_xticklabels(), fontdict={'fontsize': 10, 'fontweight': 'bold', 'fontfamily': 'serif'})\n",
        "# Definindo a fonte da legenda do eixo y\n",
        "grafico.set_yticklabels(grafico.get_yticklabels(), fontdict={'fontsize': 14, 'fontweight': 'bold', 'fontfamily': 'serif'})\n"
      ],
      "metadata": {
        "id": "jU2b04Sr41z8"
      },
      "execution_count": null,
      "outputs": []
    },
    {
      "cell_type": "code",
      "source": [
        "# Definindo largura e altura da figura\n",
        "plt.figure(figsize=(18, 6))\n",
        "# Criando o countplot com seaborn, ajustando a largura da coluna (width) e ajustando o espaçamento entre as colunas (dodge)\n",
        "grafico = sns.countplot(x=base['PetalLengthCm'], width=0.5, dodge=3.0)\n",
        "# Definindo a fonte da legenda do eixo x\n",
        "grafico.set_xticklabels(grafico.get_xticklabels(), fontdict={'fontsize': 10, 'fontweight': 'bold', 'fontfamily': 'serif'})\n",
        "# Definindo a fonte da legenda do eixo y\n",
        "grafico.set_yticklabels(grafico.get_yticklabels(), fontdict={'fontsize': 14, 'fontweight': 'bold', 'fontfamily': 'serif'})\n"
      ],
      "metadata": {
        "id": "aIl2pYUc6rz0"
      },
      "execution_count": null,
      "outputs": []
    },
    {
      "cell_type": "code",
      "source": [
        "# Definindo largura e altura da figura\n",
        "plt.figure(figsize=(18, 6))\n",
        "# Criando o countplot com seaborn, ajustando a largura da coluna (width) e ajustando o espaçamento entre as colunas (dodge)\n",
        "grafico = sns.countplot(x=base['PetalWidthCm'], width=0.5, dodge=3.0)\n",
        "# Definindo a fonte da legenda do eixo x\n",
        "grafico.set_xticklabels(grafico.get_xticklabels(), fontdict={'fontsize': 10, 'fontweight': 'bold', 'fontfamily': 'serif'})\n",
        "# Definindo a fonte da legenda do eixo y\n",
        "grafico.set_yticklabels(grafico.get_yticklabels(), fontdict={'fontsize': 14, 'fontweight': 'bold', 'fontfamily': 'serif'})\n"
      ],
      "metadata": {
        "id": "Pt8d7OEI62dn"
      },
      "execution_count": null,
      "outputs": []
    },
    {
      "cell_type": "code",
      "source": [
        "grafico = px.scatter_matrix(base, dimensions=['SepalLengthCm','SepalWidthCm','PetalLengthCm','PetalWidthCm'])\n",
        "grafico.show()"
      ],
      "metadata": {
        "id": "hxbc5hJe7Mpo"
      },
      "execution_count": null,
      "outputs": []
    },
    {
      "cell_type": "markdown",
      "source": [
        "# Preparação de Dados"
      ],
      "metadata": {
        "id": "v_HD-pEiD_by"
      }
    },
    {
      "cell_type": "code",
      "source": [
        "base.columns"
      ],
      "metadata": {
        "id": "GFaejJvRf4qe"
      },
      "execution_count": null,
      "outputs": []
    },
    {
      "cell_type": "code",
      "source": [
        "# Remover a coluna 'Id'\n",
        "base = base.drop('Id', axis=1)"
      ],
      "metadata": {
        "id": "fGgumCqGklEO"
      },
      "execution_count": null,
      "outputs": []
    },
    {
      "cell_type": "code",
      "source": [
        "base[(base['SepalWidthCm'] <= 4) & (base['SepalWidthCm'] >= 2.05)]"
      ],
      "metadata": {
        "id": "CyxGuIkbwzy4"
      },
      "execution_count": null,
      "outputs": []
    },
    {
      "cell_type": "code",
      "source": [
        "#remover outliers\n",
        "base = base[(base['SepalWidthCm'] <= 4) & (base['SepalWidthCm'] >= 2.05)]"
      ],
      "metadata": {
        "id": "dINor4IIpqjN"
      },
      "execution_count": null,
      "outputs": []
    },
    {
      "cell_type": "code",
      "source": [
        "#a partir do dataframe, obtenho as colunas com as medidas\n",
        "X_previsoras = base.iloc[:,0:4].values\n",
        "y_saidas = base.iloc[:,4:5].values"
      ],
      "metadata": {
        "id": "8a_XIoP0EztL"
      },
      "execution_count": null,
      "outputs": []
    },
    {
      "cell_type": "code",
      "source": [
        "X_previsoras"
      ],
      "metadata": {
        "id": "i2pxIovMlpfI"
      },
      "execution_count": null,
      "outputs": []
    },
    {
      "cell_type": "code",
      "source": [
        "#Padronização\n",
        "scaler = StandardScaler()\n",
        "X_previsoras_padroniza = scaler.fit_transform(X_previsoras)"
      ],
      "metadata": {
        "id": "kpIgeemwECYs"
      },
      "execution_count": null,
      "outputs": []
    },
    {
      "cell_type": "code",
      "source": [
        "#codifica\n",
        "label_encoder = LabelEncoder()\n",
        "y = label_encoder.fit_transform(y_saidas)"
      ],
      "metadata": {
        "id": "Mj6sByEEocfC"
      },
      "execution_count": null,
      "outputs": []
    },
    {
      "cell_type": "markdown",
      "source": [
        "#Rede Neural"
      ],
      "metadata": {
        "id": "9_k5GB_sD4SY"
      }
    },
    {
      "cell_type": "code",
      "source": [
        "# Dividir os dados em conjuntos de treino e teste\n",
        "#X_train, X_test, y_train, y_test = train_test_split(X_previsoras_padroniza, y, test_size=0.3, random_state=42)\n",
        "X_train, X_test, y_train, y_test = train_test_split(X_previsoras, y, test_size=0.3, random_state=42)"
      ],
      "metadata": {
        "id": "LB8JhapQpBuT"
      },
      "execution_count": null,
      "outputs": []
    },
    {
      "cell_type": "code",
      "source": [
        "# Definir o modelo com sklearn\n",
        "mlp = MLPClassifier(hidden_layer_sizes=(10, 10, 3), activation='relu', solver='adam', max_iter=1000, random_state=42)\n",
        "\n",
        "# Treinar o modelo\n",
        "mlp.fit(X_train, y_train)\n",
        "\n",
        "# Fazer previsões do conjunto de teste\n",
        "y_pred = mlp.predict(X_train)\n",
        "# Avaliar o modelo\n",
        "accuracy = accuracy_score(y_train, y_pred)\n",
        "print(f'Acurácia no conjunto de treinamento: {accuracy * 100:.2f}%')\n",
        "\n",
        "\n",
        "# Fazer previsões do conjunto de teste\n",
        "y_pred = mlp.predict(X_test)\n",
        "# Avaliar o modelo\n",
        "accuracy = accuracy_score(y_test, y_pred)\n",
        "print(f'Acurácia no conjunto de teste: {accuracy * 100:.2f}%')\n",
        "\n",
        "# Exibir algumas previsões\n",
        "print(f'Previsões: {y_pred[:30]}')\n",
        "print(f'Reais: {y_test[:30]}')\n",
        "\n",
        "# 3. Reverter a codificação dos valores preditos\n",
        "\n",
        "# Reverter a codificação dos valores preditos\n",
        "y_pred_original = label_encoder.inverse_transform(y_pred)\n",
        "\n",
        "# Reverter a codificação dos valores reais de teste (opcional)\n",
        "y_test_original = label_encoder.inverse_transform(y_test)\n",
        "\n",
        "# Exibir previsões e valores reais\n",
        "print(f'Previsões (decodificadas): {y_pred_original}')\n",
        "print(f'Reais (decodificados): {y_test_original}')"
      ],
      "metadata": {
        "id": "u62ionf0siHu"
      },
      "execution_count": null,
      "outputs": []
    },
    {
      "cell_type": "markdown",
      "source": [
        "# **Análise do Desempenho do Algoritmo**\n",
        "Overfitting quando os modelo tem um desempenho muito bom com os dados de treinamento, mas possui um desempenho muito ruim nos dados de teste. Para resolver reduza a quantidade de neurônios ou camadas.\n",
        "\n",
        "Underfitting quando o modelo não consegue generalizar os dados de treinamento então ele terá mau desempenho no conjunto de dados de treinamento. Para resolver aumente a quantidade de camadas ou neurônios.\n",
        "\n",
        "**Ferramentas automatizadas para determinar o número de neurônios e camadas: Grid Search, Random Search e Otimização Bayesiana.**"
      ],
      "metadata": {
        "id": "4fgO6taEN_QH"
      }
    },
    {
      "cell_type": "code",
      "source": [
        "# Criar a arquitetura da rede neural com tensorflow\n",
        "model_RN = Sequential([\n",
        "    Dense(6, input_shape=(4,), activation='relu'),  # Camada oculta com 10 neurônios\n",
        "    Dense(10, activation='relu'),                    # Outra camada oculta com 10 neurônios\n",
        "    Dense(3, activation='softmax')                   # Camada de saída com 3 neurônios (uma para cada classe)\n",
        "])\n",
        "\n",
        "# Compilar o modelo\n",
        "model_RN.compile(optimizer='adam', loss='sparse_categorical_crossentropy', metrics=['accuracy'])\n",
        "\n",
        "# Treinar o modelo\n",
        "model_RN.fit(X_train, y_train, epochs=100, validation_data=(X_test, y_test))\n",
        "\n",
        "# Avaliar o modelo\n",
        "loss, accuracy = model_RN.evaluate(X_train, y_train)\n",
        "print(f'Acurácia no conjunto de treino: {accuracy * 100:.2f}%')\n",
        "print(f'Perda no conjunto de treino: {loss * 100:.2f}%')\n",
        "\n",
        "# Avaliar o modelo\n",
        "loss, accuracy = model_RN.evaluate(X_test, y_test)\n",
        "print(f'Acurácia no conjunto de teste: {accuracy * 100:.2f}%')\n",
        "\n",
        "\n",
        "# Fazer previsões\n",
        "y_pred = model_RN.predict(X_test)\n",
        "y_pred_classes = y_pred.argmax(axis=1)\n",
        "\n",
        "# Exibir algumas previsões\n",
        "print(f'Previsões: {y_pred_classes[:10]}')\n",
        "print(f'Reais: {y_test[:10]}')\n",
        "\n",
        "# Reverter a codificação dos valores preditos\n",
        "y_pred_original = label_encoder.inverse_transform(y_pred_classes)\n",
        "\n",
        "# Reverter a codificação dos valores reais de teste (opcional)\n",
        "y_test_original = label_encoder.inverse_transform(y_test)\n",
        "\n",
        "# Exibir previsões e valores reais\n",
        "print(f'Previsões (decodificadas): {y_pred_original}')\n",
        "print(f'Reais (decodificados): {y_test_original}')"
      ],
      "metadata": {
        "id": "YDXuPFRLD3m4"
      },
      "execution_count": null,
      "outputs": []
    },
    {
      "cell_type": "code",
      "source": [
        "X_entrada = np.array([[6.7,3.0,5.2,2.3]])\n",
        "y_pred = model_RN.predict(X_entrada)\n",
        "y_pred_classes = y_pred.argmax(axis=1)\n",
        "\n",
        "# Exibir algumas previsões\n",
        "print(f'Previsões: {y_pred_classes[0]}')\n",
        "\n",
        "# Reverter a codificação dos valores reais de teste (opcional)\n",
        "saida = label_encoder.inverse_transform(y_pred_classes)\n",
        "\n",
        "# Exibir previsões e valores reais\n",
        "print(f'Previsões (decodificadas): {saida}')"
      ],
      "metadata": {
        "id": "gKLLFDPQGsfP"
      },
      "execution_count": null,
      "outputs": []
    },
    {
      "cell_type": "code",
      "source": [
        "#gravar o modelo da Rede Neural\n",
        "import pickle\n",
        "meu_arquivo = open('/content/drive/MyDrive/dados/modelo_RN.h5',  'wb')\n",
        "\n",
        "pickle.dump(model_RN, meu_arquivo)\n",
        "meu_arquivo.close()"
      ],
      "metadata": {
        "id": "Er7rytKJJlnc"
      },
      "execution_count": null,
      "outputs": []
    },
    {
      "cell_type": "code",
      "source": [
        "valor1 = float(input('SepalLengthCm'))\n",
        "valor2 = float(input('SepalWidthCm'))\n",
        "valor3 = float(input('PetalLengthCm'))\n",
        "valor4 = float(input('PetalWidthCm'))\n",
        "X_entrada = np.array([[valor1,valor2,valor3,valor4]])"
      ],
      "metadata": {
        "id": "7qPAMd7MkYiO"
      },
      "execution_count": null,
      "outputs": []
    },
    {
      "cell_type": "code",
      "source": [
        "#abrir o modelo\n",
        "import pickle\n",
        "meu_arquivo = open('/content/drive/MyDrive/dados/modelo_RN.h5', 'rb')\n",
        "modelo_aberto = pickle.load(meu_arquivo)  # carrega o modelo\n",
        "meu_arquivo.close()"
      ],
      "metadata": {
        "id": "EroVUzxSlOue"
      },
      "execution_count": null,
      "outputs": []
    },
    {
      "cell_type": "code",
      "source": [
        "#usar os dados digitados para realizar a predição\n",
        "y_pred = modelo_aberto.predict(X_entrada)\n",
        "y_pred_classes = y_pred.argmax(axis=1)\n",
        "print(f'Previsões: {y_pred_classes[0]}')\n",
        "\n",
        "# Reverter a codificação dos valores reais de teste (opcional)\n",
        "saida = label_encoder.inverse_transform(y_pred_classes)\n",
        "\n",
        "# Exibir previsões e valores reais\n",
        "print(f'Previsões (decodificadas): {saida}')"
      ],
      "metadata": {
        "id": "yoO0zp5NlULr"
      },
      "execution_count": null,
      "outputs": []
    }
  ]
}