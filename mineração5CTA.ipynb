{
  "nbformat": 4,
  "nbformat_minor": 0,
  "metadata": {
    "colab": {
      "provenance": [],
      "authorship_tag": "ABX9TyNMj9uoDlSh3rjk/A3va1xJ",
      "include_colab_link": true
    },
    "kernelspec": {
      "name": "python3",
      "display_name": "Python 3"
    },
    "language_info": {
      "name": "python"
    }
  },
  "cells": [
    {
      "cell_type": "markdown",
      "metadata": {
        "id": "view-in-github",
        "colab_type": "text"
      },
      "source": [
        "<a href=\"https://colab.research.google.com/github/arrudacamila/Colab/blob/main/minera%C3%A7%C3%A3o5CTA.ipynb\" target=\"_parent\"><img src=\"https://colab.research.google.com/assets/colab-badge.svg\" alt=\"Open In Colab\"/></a>"
      ]
    },
    {
      "cell_type": "code",
      "execution_count": null,
      "metadata": {
        "colab": {
          "base_uri": "https://localhost:8080/",
          "height": 420
        },
        "id": "HrholbwkKvmM",
        "outputId": "72702b4b-2b3e-4d9d-ff80-52c3d8944de0"
      },
      "outputs": [
        {
          "output_type": "display_data",
          "data": {
            "text/plain": [
              "<IPython.core.display.HTML object>"
            ],
            "text/html": [
              "\n",
              "     <input type=\"file\" id=\"files-14bd6540-50b4-452d-bc4b-5bd197162f5e\" name=\"files[]\" multiple disabled\n",
              "        style=\"border:none\" />\n",
              "     <output id=\"result-14bd6540-50b4-452d-bc4b-5bd197162f5e\">\n",
              "      Upload widget is only available when the cell has been executed in the\n",
              "      current browser session. Please rerun this cell to enable.\n",
              "      </output>\n",
              "      <script>// Copyright 2017 Google LLC\n",
              "//\n",
              "// Licensed under the Apache License, Version 2.0 (the \"License\");\n",
              "// you may not use this file except in compliance with the License.\n",
              "// You may obtain a copy of the License at\n",
              "//\n",
              "//      http://www.apache.org/licenses/LICENSE-2.0\n",
              "//\n",
              "// Unless required by applicable law or agreed to in writing, software\n",
              "// distributed under the License is distributed on an \"AS IS\" BASIS,\n",
              "// WITHOUT WARRANTIES OR CONDITIONS OF ANY KIND, either express or implied.\n",
              "// See the License for the specific language governing permissions and\n",
              "// limitations under the License.\n",
              "\n",
              "/**\n",
              " * @fileoverview Helpers for google.colab Python module.\n",
              " */\n",
              "(function(scope) {\n",
              "function span(text, styleAttributes = {}) {\n",
              "  const element = document.createElement('span');\n",
              "  element.textContent = text;\n",
              "  for (const key of Object.keys(styleAttributes)) {\n",
              "    element.style[key] = styleAttributes[key];\n",
              "  }\n",
              "  return element;\n",
              "}\n",
              "\n",
              "// Max number of bytes which will be uploaded at a time.\n",
              "const MAX_PAYLOAD_SIZE = 100 * 1024;\n",
              "\n",
              "function _uploadFiles(inputId, outputId) {\n",
              "  const steps = uploadFilesStep(inputId, outputId);\n",
              "  const outputElement = document.getElementById(outputId);\n",
              "  // Cache steps on the outputElement to make it available for the next call\n",
              "  // to uploadFilesContinue from Python.\n",
              "  outputElement.steps = steps;\n",
              "\n",
              "  return _uploadFilesContinue(outputId);\n",
              "}\n",
              "\n",
              "// This is roughly an async generator (not supported in the browser yet),\n",
              "// where there are multiple asynchronous steps and the Python side is going\n",
              "// to poll for completion of each step.\n",
              "// This uses a Promise to block the python side on completion of each step,\n",
              "// then passes the result of the previous step as the input to the next step.\n",
              "function _uploadFilesContinue(outputId) {\n",
              "  const outputElement = document.getElementById(outputId);\n",
              "  const steps = outputElement.steps;\n",
              "\n",
              "  const next = steps.next(outputElement.lastPromiseValue);\n",
              "  return Promise.resolve(next.value.promise).then((value) => {\n",
              "    // Cache the last promise value to make it available to the next\n",
              "    // step of the generator.\n",
              "    outputElement.lastPromiseValue = value;\n",
              "    return next.value.response;\n",
              "  });\n",
              "}\n",
              "\n",
              "/**\n",
              " * Generator function which is called between each async step of the upload\n",
              " * process.\n",
              " * @param {string} inputId Element ID of the input file picker element.\n",
              " * @param {string} outputId Element ID of the output display.\n",
              " * @return {!Iterable<!Object>} Iterable of next steps.\n",
              " */\n",
              "function* uploadFilesStep(inputId, outputId) {\n",
              "  const inputElement = document.getElementById(inputId);\n",
              "  inputElement.disabled = false;\n",
              "\n",
              "  const outputElement = document.getElementById(outputId);\n",
              "  outputElement.innerHTML = '';\n",
              "\n",
              "  const pickedPromise = new Promise((resolve) => {\n",
              "    inputElement.addEventListener('change', (e) => {\n",
              "      resolve(e.target.files);\n",
              "    });\n",
              "  });\n",
              "\n",
              "  const cancel = document.createElement('button');\n",
              "  inputElement.parentElement.appendChild(cancel);\n",
              "  cancel.textContent = 'Cancel upload';\n",
              "  const cancelPromise = new Promise((resolve) => {\n",
              "    cancel.onclick = () => {\n",
              "      resolve(null);\n",
              "    };\n",
              "  });\n",
              "\n",
              "  // Wait for the user to pick the files.\n",
              "  const files = yield {\n",
              "    promise: Promise.race([pickedPromise, cancelPromise]),\n",
              "    response: {\n",
              "      action: 'starting',\n",
              "    }\n",
              "  };\n",
              "\n",
              "  cancel.remove();\n",
              "\n",
              "  // Disable the input element since further picks are not allowed.\n",
              "  inputElement.disabled = true;\n",
              "\n",
              "  if (!files) {\n",
              "    return {\n",
              "      response: {\n",
              "        action: 'complete',\n",
              "      }\n",
              "    };\n",
              "  }\n",
              "\n",
              "  for (const file of files) {\n",
              "    const li = document.createElement('li');\n",
              "    li.append(span(file.name, {fontWeight: 'bold'}));\n",
              "    li.append(span(\n",
              "        `(${file.type || 'n/a'}) - ${file.size} bytes, ` +\n",
              "        `last modified: ${\n",
              "            file.lastModifiedDate ? file.lastModifiedDate.toLocaleDateString() :\n",
              "                                    'n/a'} - `));\n",
              "    const percent = span('0% done');\n",
              "    li.appendChild(percent);\n",
              "\n",
              "    outputElement.appendChild(li);\n",
              "\n",
              "    const fileDataPromise = new Promise((resolve) => {\n",
              "      const reader = new FileReader();\n",
              "      reader.onload = (e) => {\n",
              "        resolve(e.target.result);\n",
              "      };\n",
              "      reader.readAsArrayBuffer(file);\n",
              "    });\n",
              "    // Wait for the data to be ready.\n",
              "    let fileData = yield {\n",
              "      promise: fileDataPromise,\n",
              "      response: {\n",
              "        action: 'continue',\n",
              "      }\n",
              "    };\n",
              "\n",
              "    // Use a chunked sending to avoid message size limits. See b/62115660.\n",
              "    let position = 0;\n",
              "    do {\n",
              "      const length = Math.min(fileData.byteLength - position, MAX_PAYLOAD_SIZE);\n",
              "      const chunk = new Uint8Array(fileData, position, length);\n",
              "      position += length;\n",
              "\n",
              "      const base64 = btoa(String.fromCharCode.apply(null, chunk));\n",
              "      yield {\n",
              "        response: {\n",
              "          action: 'append',\n",
              "          file: file.name,\n",
              "          data: base64,\n",
              "        },\n",
              "      };\n",
              "\n",
              "      let percentDone = fileData.byteLength === 0 ?\n",
              "          100 :\n",
              "          Math.round((position / fileData.byteLength) * 100);\n",
              "      percent.textContent = `${percentDone}% done`;\n",
              "\n",
              "    } while (position < fileData.byteLength);\n",
              "  }\n",
              "\n",
              "  // All done.\n",
              "  yield {\n",
              "    response: {\n",
              "      action: 'complete',\n",
              "    }\n",
              "  };\n",
              "}\n",
              "\n",
              "scope.google = scope.google || {};\n",
              "scope.google.colab = scope.google.colab || {};\n",
              "scope.google.colab._files = {\n",
              "  _uploadFiles,\n",
              "  _uploadFilesContinue,\n",
              "};\n",
              "})(self);\n",
              "</script> "
            ]
          },
          "metadata": {}
        },
        {
          "output_type": "stream",
          "name": "stdout",
          "text": [
            "Saving mammographic_masses.data to mammographic_masses.data\n",
            "<class 'pandas.core.frame.DataFrame'>\n",
            "RangeIndex: 961 entries, 0 to 960\n",
            "Data columns (total 6 columns):\n",
            " #   Column      Non-Null Count  Dtype \n",
            "---  ------      --------------  ----- \n",
            " 0   BI-RADS     961 non-null    object\n",
            " 1   idade       961 non-null    object\n",
            " 2   forma       961 non-null    object\n",
            " 3   contorno    961 non-null    object\n",
            " 4   densidade   961 non-null    object\n",
            " 5   severidade  961 non-null    int64 \n",
            "dtypes: int64(1), object(5)\n",
            "memory usage: 45.2+ KB\n",
            "BI-RADS        8\n",
            "idade         74\n",
            "forma          5\n",
            "contorno       6\n",
            "densidade      5\n",
            "severidade     2\n",
            "dtype: int64\n"
          ]
        }
      ],
      "source": [
        "# 1. Importar bibliotecas\n",
        "import pandas as pd\n",
        "from google.colab import files\n",
        "\n",
        "# 2. Fazer upload do arquivo\n",
        "uploaded = files.upload()\n",
        "\n",
        "# 3. Ler o dataset\n",
        "df = pd.read_csv('mammographic_masses.data', header=None)\n",
        "\n",
        "# 4. Adicionar cabeçalho\n",
        "df.columns = ['BI-RADS', 'idade', 'forma', 'contorno', 'densidade', 'severidade']\n",
        "\n",
        "df.head()\n",
        "\n",
        "df.tail()  # Exibe as 5 últimas linhas por padrão.\n",
        "\n",
        "df.info()  # Fornece um resumo do DataFrame, incluindo o número de entradas, tipos de dados e valores não nulos.\n",
        "\n",
        "# Comentar o método que não irá visualizar (severidade 0 - bom 1- maligno)\n",
        "df.describe()\n",
        "df.head()\n",
        "# Cardinalidade\n",
        "cardinalidade = df.nunique()\n",
        "print(cardinalidade)\n"
      ]
    },
    {
      "cell_type": "code",
      "source": [
        "# Supondo que 'df' seja seu DataFrame\n",
        "valores_ausentes = df[df.eq('?').any(axis=1)]\n",
        "\n",
        "# Exibir as linhas com valores ausentes\n",
        "print(valores_ausentes)"
      ],
      "metadata": {
        "colab": {
          "base_uri": "https://localhost:8080/"
        },
        "id": "EuLN_tueLJIk",
        "outputId": "95e2290a-b510-4b66-d9c8-07326729ef7e"
      },
      "execution_count": null,
      "outputs": [
        {
          "output_type": "stream",
          "name": "stdout",
          "text": [
            "    BI-RADS idade forma contorno densidade  severidade\n",
            "1         4    43     1        1         ?           1\n",
            "4         5    74     1        5         ?           1\n",
            "5         4    65     1        ?         3           0\n",
            "6         4    70     ?        ?         3           0\n",
            "7         5    42     1        ?         3           0\n",
            "..      ...   ...   ...      ...       ...         ...\n",
            "778       4    60     ?        4         3           0\n",
            "819       4    35     3        ?         2           0\n",
            "824       6    40     ?        3         4           1\n",
            "884       5     ?     4        4         3           1\n",
            "923       5     ?     4        3         3           1\n",
            "\n",
            "[131 rows x 6 columns]\n"
          ]
        }
      ]
    },
    {
      "cell_type": "code",
      "source": [
        "valores_ausentes = df.isna().sum()\n",
        "print(valores_ausentes)"
      ],
      "metadata": {
        "colab": {
          "base_uri": "https://localhost:8080/"
        },
        "id": "rwWXKpPHLJ2I",
        "outputId": "178062fd-7df1-4a35-f414-dd5138741343"
      },
      "execution_count": null,
      "outputs": [
        {
          "output_type": "stream",
          "name": "stdout",
          "text": [
            "BI-RADS       0\n",
            "idade         0\n",
            "forma         0\n",
            "contorno      0\n",
            "densidade     0\n",
            "severidade    0\n",
            "dtype: int64\n"
          ]
        }
      ]
    },
    {
      "cell_type": "code",
      "source": [
        "frequencia_birads = df['BI-RADS'].value_counts()   print(frequencia_birads)"
      ],
      "metadata": {
        "colab": {
          "base_uri": "https://localhost:8080/",
          "height": 106
        },
        "id": "YgK0NQ4iLMy3",
        "outputId": "d49ddb98-bc90-41a3-d03e-47990a786652"
      },
      "execution_count": null,
      "outputs": [
        {
          "output_type": "error",
          "ename": "SyntaxError",
          "evalue": "invalid syntax (<ipython-input-4-710bc213fd1b>, line 1)",
          "traceback": [
            "\u001b[0;36m  File \u001b[0;32m\"<ipython-input-4-710bc213fd1b>\"\u001b[0;36m, line \u001b[0;32m1\u001b[0m\n\u001b[0;31m    frequencia_birads = df['BI-RADS'].value_counts()   print(frequencia_birads)\u001b[0m\n\u001b[0m                                                       ^\u001b[0m\n\u001b[0;31mSyntaxError\u001b[0m\u001b[0;31m:\u001b[0m invalid syntax\n"
          ]
        }
      ]
    },
    {
      "cell_type": "code",
      "source": [
        "linhas_com_interrogacao = df.loc[df['BI-RADS'] == '?']\n",
        "print(linhas_com_interrogacao)"
      ],
      "metadata": {
        "colab": {
          "base_uri": "https://localhost:8080/"
        },
        "id": "FfpXF38hLQZU",
        "outputId": "1861fe92-f24f-4679-e2e0-1cc69343e4b5"
      },
      "execution_count": null,
      "outputs": [
        {
          "output_type": "stream",
          "name": "stdout",
          "text": [
            "    BI-RADS idade forma contorno densidade  severidade\n",
            "20        ?    66     ?        ?         1           1\n",
            "208       ?    52     4        4         3           0\n"
          ]
        }
      ]
    },
    {
      "cell_type": "code",
      "source": [
        "# Filtrar o DataFrame para severidade = 1\n",
        "severidade_1 = df[df['severidade'] == 0]\n",
        "\n",
        "# Calcular a frequência de BI-RADS para severidade = 1\n",
        "frequencia_birads_severidade_1 = severidade_1['BI-RADS'].value_counts()\n",
        "\n",
        "# Exibir os resultados\n",
        "print(frequencia_birads_severidade_1)\n",
        "\n",
        "df.loc[208, 'BI-RADS'] = 4\n"
      ],
      "metadata": {
        "colab": {
          "base_uri": "https://localhost:8080/"
        },
        "id": "udgqBUsCLnU-",
        "outputId": "3cfe5ae3-7d7f-4e1d-bd2d-58d221d2f5a6"
      },
      "execution_count": null,
      "outputs": [
        {
          "output_type": "stream",
          "name": "stdout",
          "text": [
            "BI-RADS\n",
            "4    427\n",
            "5     40\n",
            "3     30\n",
            "2     13\n",
            "6      3\n",
            "0      2\n",
            "?      1\n",
            "Name: count, dtype: int64\n"
          ]
        }
      ]
    },
    {
      "cell_type": "code",
      "source": [
        "linhas_com_interrogacao_idade = df[df['idade'] == '?']\n",
        "print(linhas_com_interrogacao_idade)\n",
        "\n",
        "df_filtrado = df[df['severidade'] == 1]\n",
        "print(df_filtrado)  # Exibe o DataFrame filtrado\n"
      ],
      "metadata": {
        "colab": {
          "base_uri": "https://localhost:8080/"
        },
        "id": "i2GTPcR5Lr1v",
        "outputId": "0844632f-bdc7-467b-8515-5cf306918ba3"
      },
      "execution_count": null,
      "outputs": [
        {
          "output_type": "stream",
          "name": "stdout",
          "text": [
            "    BI-RADS idade forma contorno densidade  severidade\n",
            "443       4     ?     4        5         3           1\n",
            "453       5     ?     4        4         3           1\n",
            "683       5     ?     3        3         3           1\n",
            "884       5     ?     4        4         3           1\n",
            "923       5     ?     4        3         3           1\n",
            "    BI-RADS idade forma contorno densidade  severidade\n",
            "0         5    67     3        5         3           1\n",
            "1         4    43     1        1         ?           1\n",
            "2         5    58     4        5         3           1\n",
            "4         5    74     1        5         ?           1\n",
            "8         5    57     1        5         3           1\n",
            "..      ...   ...   ...      ...       ...         ...\n",
            "951       5    67     4        5         3           1\n",
            "952       4    68     4        4         3           1\n",
            "955       4    52     4        4         3           1\n",
            "957       4    56     4        5         3           1\n",
            "959       5    66     4        5         3           1\n",
            "\n",
            "[445 rows x 6 columns]\n"
          ]
        }
      ]
    },
    {
      "cell_type": "code",
      "source": [
        "linhas_com_interrogacao_idade = df[df['idade'] == '?']\n",
        "print(linhas_com_interrogacao_idade)"
      ],
      "metadata": {
        "colab": {
          "base_uri": "https://localhost:8080/"
        },
        "id": "9Y2Q9JWKT7vQ",
        "outputId": "48c4735d-b781-49d1-bb61-06691db5c1d4"
      },
      "execution_count": null,
      "outputs": [
        {
          "output_type": "stream",
          "name": "stdout",
          "text": [
            "    BI-RADS idade forma contorno densidade  severidade\n",
            "443       4     ?     4        5         3           1\n",
            "453       5     ?     4        4         3           1\n",
            "683       5     ?     3        3         3           1\n",
            "884       5     ?     4        4         3           1\n",
            "923       5     ?     4        3         3           1\n"
          ]
        }
      ]
    },
    {
      "cell_type": "code",
      "source": [
        "# Criar um novo DataFrame sem as linhas com idade = '?'\n",
        "df_sem_interrogacao_idade = df[df['idade'] != '?']\n",
        "\n",
        "# Exibir o novo DataFrame\n",
        "print(df_sem_interrogacao_idade)"
      ],
      "metadata": {
        "colab": {
          "base_uri": "https://localhost:8080/"
        },
        "id": "12GAOp9GT9Ii",
        "outputId": "b8a6838d-2a44-48ac-a2eb-0c00487fd0f6"
      },
      "execution_count": null,
      "outputs": [
        {
          "output_type": "stream",
          "name": "stdout",
          "text": [
            "    BI-RADS idade forma contorno densidade  severidade\n",
            "0         5    67     3        5         3           1\n",
            "1         4    43     1        1         ?           1\n",
            "2         5    58     4        5         3           1\n",
            "3         4    28     1        1         3           0\n",
            "4         5    74     1        5         ?           1\n",
            "..      ...   ...   ...      ...       ...         ...\n",
            "956       4    47     2        1         3           0\n",
            "957       4    56     4        5         3           1\n",
            "958       4    64     4        5         3           0\n",
            "959       5    66     4        5         3           1\n",
            "960       4    62     3        3         3           0\n",
            "\n",
            "[956 rows x 6 columns]\n"
          ]
        }
      ]
    },
    {
      "cell_type": "code",
      "source": [
        "idade_describe = df_sem_interrogacao_idade['idade'].describe()\n",
        "print(idade_describe)"
      ],
      "metadata": {
        "colab": {
          "base_uri": "https://localhost:8080/"
        },
        "id": "Uo8L78M0UUht",
        "outputId": "60d7b901-ee26-4e2b-b22e-7977c7882b45"
      },
      "execution_count": null,
      "outputs": [
        {
          "output_type": "stream",
          "name": "stdout",
          "text": [
            "count     956\n",
            "unique     73\n",
            "top        59\n",
            "freq       36\n",
            "Name: idade, dtype: object\n"
          ]
        }
      ]
    },
    {
      "cell_type": "code",
      "source": [
        "severidade_1 = df_sem_interrogacao_idade[df_sem_interrogacao_idade['severidade'] == 1]\n",
        "print(severidade_1)"
      ],
      "metadata": {
        "colab": {
          "base_uri": "https://localhost:8080/"
        },
        "id": "o1lA9V00Y1vG",
        "outputId": "91097461-7505-42ff-96c2-dd0903ed3394"
      },
      "execution_count": null,
      "outputs": [
        {
          "output_type": "stream",
          "name": "stdout",
          "text": [
            "    BI-RADS idade forma contorno densidade  severidade\n",
            "0         5    67     3        5         3           1\n",
            "1         4    43     1        1         ?           1\n",
            "2         5    58     4        5         3           1\n",
            "4         5    74     1        5         ?           1\n",
            "8         5    57     1        5         3           1\n",
            "..      ...   ...   ...      ...       ...         ...\n",
            "951       5    67     4        5         3           1\n",
            "952       4    68     4        4         3           1\n",
            "955       4    52     4        4         3           1\n",
            "957       4    56     4        5         3           1\n",
            "959       5    66     4        5         3           1\n",
            "\n",
            "[440 rows x 6 columns]\n"
          ]
        }
      ]
    },
    {
      "cell_type": "code",
      "source": [
        "severidade_1 = df_sem_interrogacao_idade[df_sem_interrogacao_idade['severidade'] == 1]\n",
        "print(severidade_1)"
      ],
      "metadata": {
        "colab": {
          "base_uri": "https://localhost:8080/"
        },
        "id": "1XbV2wrnY4r8",
        "outputId": "e76fef12-bc7b-4201-901e-95678ba5cb9d"
      },
      "execution_count": null,
      "outputs": [
        {
          "output_type": "stream",
          "name": "stdout",
          "text": [
            "    BI-RADS idade forma contorno densidade  severidade\n",
            "0         5    67     3        5         3           1\n",
            "1         4    43     1        1         ?           1\n",
            "2         5    58     4        5         3           1\n",
            "4         5    74     1        5         ?           1\n",
            "8         5    57     1        5         3           1\n",
            "..      ...   ...   ...      ...       ...         ...\n",
            "951       5    67     4        5         3           1\n",
            "952       4    68     4        4         3           1\n",
            "955       4    52     4        4         3           1\n",
            "957       4    56     4        5         3           1\n",
            "959       5    66     4        5         3           1\n",
            "\n",
            "[440 rows x 6 columns]\n"
          ]
        }
      ]
    },
    {
      "cell_type": "code",
      "source": [
        "# Calcular a idade média\n",
        "idade_media = severidade_1['idade'].mean()\n",
        "\n",
        "# Exibir a idade média\n",
        "print(idade_media)"
      ],
      "metadata": {
        "colab": {
          "base_uri": "https://localhost:8080/",
          "height": 411
        },
        "id": "M_qFli2UZAxp",
        "outputId": "8f9a445b-ec1a-4476-af93-cde807f4d309"
      },
      "execution_count": null,
      "outputs": [
        {
          "output_type": "error",
          "ename": "TypeError",
          "evalue": "Could not convert string '6743587457607642595466564259754554576748624464678053595260747268667074604468515862738059544433715551406775664659656780626363715771555867876854866349717437815979418566517243594376577954638076646372765857705673776771657672756167556657707940686465556644778050464950546777716471603472608554556775874646615978343983565588714952586780685474495052687458606974686170376576724266486067786643665833363983686378466056696654806869718755848077545140424447525383506382805944497175877055766265736567617173635045676671698070658340793864558456597559288559654663536666864759614693446164796843526758686268355567735850596053796764705565455749644066645243517959665058625771626771686676967045656469624859676159527771637276696867566965626743415558877260833162587565745765744060867185725271646286465856497662645370557665413650545248656566417242807267615552636257667750744262574074577148587054716768525666' to numeric",
          "traceback": [
            "\u001b[0;31m---------------------------------------------------------------------------\u001b[0m",
            "\u001b[0;31mTypeError\u001b[0m                                 Traceback (most recent call last)",
            "\u001b[0;32m<ipython-input-22-8691110b8d60>\u001b[0m in \u001b[0;36m<cell line: 0>\u001b[0;34m()\u001b[0m\n\u001b[1;32m      1\u001b[0m \u001b[0;31m# Calcular a idade média\u001b[0m\u001b[0;34m\u001b[0m\u001b[0;34m\u001b[0m\u001b[0m\n\u001b[0;32m----> 2\u001b[0;31m \u001b[0midade_media\u001b[0m \u001b[0;34m=\u001b[0m \u001b[0mseveridade_1\u001b[0m\u001b[0;34m[\u001b[0m\u001b[0;34m'idade'\u001b[0m\u001b[0;34m]\u001b[0m\u001b[0;34m.\u001b[0m\u001b[0mmean\u001b[0m\u001b[0;34m(\u001b[0m\u001b[0;34m)\u001b[0m\u001b[0;34m\u001b[0m\u001b[0;34m\u001b[0m\u001b[0m\n\u001b[0m\u001b[1;32m      3\u001b[0m \u001b[0;34m\u001b[0m\u001b[0m\n\u001b[1;32m      4\u001b[0m \u001b[0;31m# Exibir a idade média\u001b[0m\u001b[0;34m\u001b[0m\u001b[0;34m\u001b[0m\u001b[0m\n\u001b[1;32m      5\u001b[0m \u001b[0mprint\u001b[0m\u001b[0;34m(\u001b[0m\u001b[0midade_media\u001b[0m\u001b[0;34m)\u001b[0m\u001b[0;34m\u001b[0m\u001b[0;34m\u001b[0m\u001b[0m\n",
            "\u001b[0;32m/usr/local/lib/python3.11/dist-packages/pandas/core/series.py\u001b[0m in \u001b[0;36mmean\u001b[0;34m(self, axis, skipna, numeric_only, **kwargs)\u001b[0m\n\u001b[1;32m   6547\u001b[0m         \u001b[0;34m**\u001b[0m\u001b[0mkwargs\u001b[0m\u001b[0;34m,\u001b[0m\u001b[0;34m\u001b[0m\u001b[0;34m\u001b[0m\u001b[0m\n\u001b[1;32m   6548\u001b[0m     ):\n\u001b[0;32m-> 6549\u001b[0;31m         \u001b[0;32mreturn\u001b[0m \u001b[0mNDFrame\u001b[0m\u001b[0;34m.\u001b[0m\u001b[0mmean\u001b[0m\u001b[0;34m(\u001b[0m\u001b[0mself\u001b[0m\u001b[0;34m,\u001b[0m \u001b[0maxis\u001b[0m\u001b[0;34m,\u001b[0m \u001b[0mskipna\u001b[0m\u001b[0;34m,\u001b[0m \u001b[0mnumeric_only\u001b[0m\u001b[0;34m,\u001b[0m \u001b[0;34m**\u001b[0m\u001b[0mkwargs\u001b[0m\u001b[0;34m)\u001b[0m\u001b[0;34m\u001b[0m\u001b[0;34m\u001b[0m\u001b[0m\n\u001b[0m\u001b[1;32m   6550\u001b[0m \u001b[0;34m\u001b[0m\u001b[0m\n\u001b[1;32m   6551\u001b[0m     \u001b[0;34m@\u001b[0m\u001b[0mdoc\u001b[0m\u001b[0;34m(\u001b[0m\u001b[0mmake_doc\u001b[0m\u001b[0;34m(\u001b[0m\u001b[0;34m\"median\"\u001b[0m\u001b[0;34m,\u001b[0m \u001b[0mndim\u001b[0m\u001b[0;34m=\u001b[0m\u001b[0;36m1\u001b[0m\u001b[0;34m)\u001b[0m\u001b[0;34m)\u001b[0m\u001b[0;34m\u001b[0m\u001b[0;34m\u001b[0m\u001b[0m\n",
            "\u001b[0;32m/usr/local/lib/python3.11/dist-packages/pandas/core/generic.py\u001b[0m in \u001b[0;36mmean\u001b[0;34m(self, axis, skipna, numeric_only, **kwargs)\u001b[0m\n\u001b[1;32m  12418\u001b[0m         \u001b[0;34m**\u001b[0m\u001b[0mkwargs\u001b[0m\u001b[0;34m,\u001b[0m\u001b[0;34m\u001b[0m\u001b[0;34m\u001b[0m\u001b[0m\n\u001b[1;32m  12419\u001b[0m     ) -> Series | float:\n\u001b[0;32m> 12420\u001b[0;31m         return self._stat_function(\n\u001b[0m\u001b[1;32m  12421\u001b[0m             \u001b[0;34m\"mean\"\u001b[0m\u001b[0;34m,\u001b[0m \u001b[0mnanops\u001b[0m\u001b[0;34m.\u001b[0m\u001b[0mnanmean\u001b[0m\u001b[0;34m,\u001b[0m \u001b[0maxis\u001b[0m\u001b[0;34m,\u001b[0m \u001b[0mskipna\u001b[0m\u001b[0;34m,\u001b[0m \u001b[0mnumeric_only\u001b[0m\u001b[0;34m,\u001b[0m \u001b[0;34m**\u001b[0m\u001b[0mkwargs\u001b[0m\u001b[0;34m\u001b[0m\u001b[0;34m\u001b[0m\u001b[0m\n\u001b[1;32m  12422\u001b[0m         )\n",
            "\u001b[0;32m/usr/local/lib/python3.11/dist-packages/pandas/core/generic.py\u001b[0m in \u001b[0;36m_stat_function\u001b[0;34m(self, name, func, axis, skipna, numeric_only, **kwargs)\u001b[0m\n\u001b[1;32m  12375\u001b[0m         \u001b[0mvalidate_bool_kwarg\u001b[0m\u001b[0;34m(\u001b[0m\u001b[0mskipna\u001b[0m\u001b[0;34m,\u001b[0m \u001b[0;34m\"skipna\"\u001b[0m\u001b[0;34m,\u001b[0m \u001b[0mnone_allowed\u001b[0m\u001b[0;34m=\u001b[0m\u001b[0;32mFalse\u001b[0m\u001b[0;34m)\u001b[0m\u001b[0;34m\u001b[0m\u001b[0;34m\u001b[0m\u001b[0m\n\u001b[1;32m  12376\u001b[0m \u001b[0;34m\u001b[0m\u001b[0m\n\u001b[0;32m> 12377\u001b[0;31m         return self._reduce(\n\u001b[0m\u001b[1;32m  12378\u001b[0m             \u001b[0mfunc\u001b[0m\u001b[0;34m,\u001b[0m \u001b[0mname\u001b[0m\u001b[0;34m=\u001b[0m\u001b[0mname\u001b[0m\u001b[0;34m,\u001b[0m \u001b[0maxis\u001b[0m\u001b[0;34m=\u001b[0m\u001b[0maxis\u001b[0m\u001b[0;34m,\u001b[0m \u001b[0mskipna\u001b[0m\u001b[0;34m=\u001b[0m\u001b[0mskipna\u001b[0m\u001b[0;34m,\u001b[0m \u001b[0mnumeric_only\u001b[0m\u001b[0;34m=\u001b[0m\u001b[0mnumeric_only\u001b[0m\u001b[0;34m\u001b[0m\u001b[0;34m\u001b[0m\u001b[0m\n\u001b[1;32m  12379\u001b[0m         )\n",
            "\u001b[0;32m/usr/local/lib/python3.11/dist-packages/pandas/core/series.py\u001b[0m in \u001b[0;36m_reduce\u001b[0;34m(self, op, name, axis, skipna, numeric_only, filter_type, **kwds)\u001b[0m\n\u001b[1;32m   6455\u001b[0m                     \u001b[0;34m\"with non-numeric dtypes.\"\u001b[0m\u001b[0;34m\u001b[0m\u001b[0;34m\u001b[0m\u001b[0m\n\u001b[1;32m   6456\u001b[0m                 )\n\u001b[0;32m-> 6457\u001b[0;31m             \u001b[0;32mreturn\u001b[0m \u001b[0mop\u001b[0m\u001b[0;34m(\u001b[0m\u001b[0mdelegate\u001b[0m\u001b[0;34m,\u001b[0m \u001b[0mskipna\u001b[0m\u001b[0;34m=\u001b[0m\u001b[0mskipna\u001b[0m\u001b[0;34m,\u001b[0m \u001b[0;34m**\u001b[0m\u001b[0mkwds\u001b[0m\u001b[0;34m)\u001b[0m\u001b[0;34m\u001b[0m\u001b[0;34m\u001b[0m\u001b[0m\n\u001b[0m\u001b[1;32m   6458\u001b[0m \u001b[0;34m\u001b[0m\u001b[0m\n\u001b[1;32m   6459\u001b[0m     \u001b[0;34m@\u001b[0m\u001b[0mAppender\u001b[0m\u001b[0;34m(\u001b[0m\u001b[0mmake_doc\u001b[0m\u001b[0;34m(\u001b[0m\u001b[0;34m\"any\"\u001b[0m\u001b[0;34m,\u001b[0m \u001b[0mndim\u001b[0m\u001b[0;34m=\u001b[0m\u001b[0;36m1\u001b[0m\u001b[0;34m)\u001b[0m\u001b[0;34m)\u001b[0m\u001b[0;34m\u001b[0m\u001b[0;34m\u001b[0m\u001b[0m\n",
            "\u001b[0;32m/usr/local/lib/python3.11/dist-packages/pandas/core/nanops.py\u001b[0m in \u001b[0;36mf\u001b[0;34m(values, axis, skipna, **kwds)\u001b[0m\n\u001b[1;32m    145\u001b[0m                     \u001b[0mresult\u001b[0m \u001b[0;34m=\u001b[0m \u001b[0malt\u001b[0m\u001b[0;34m(\u001b[0m\u001b[0mvalues\u001b[0m\u001b[0;34m,\u001b[0m \u001b[0maxis\u001b[0m\u001b[0;34m=\u001b[0m\u001b[0maxis\u001b[0m\u001b[0;34m,\u001b[0m \u001b[0mskipna\u001b[0m\u001b[0;34m=\u001b[0m\u001b[0mskipna\u001b[0m\u001b[0;34m,\u001b[0m \u001b[0;34m**\u001b[0m\u001b[0mkwds\u001b[0m\u001b[0;34m)\u001b[0m\u001b[0;34m\u001b[0m\u001b[0;34m\u001b[0m\u001b[0m\n\u001b[1;32m    146\u001b[0m             \u001b[0;32melse\u001b[0m\u001b[0;34m:\u001b[0m\u001b[0;34m\u001b[0m\u001b[0;34m\u001b[0m\u001b[0m\n\u001b[0;32m--> 147\u001b[0;31m                 \u001b[0mresult\u001b[0m \u001b[0;34m=\u001b[0m \u001b[0malt\u001b[0m\u001b[0;34m(\u001b[0m\u001b[0mvalues\u001b[0m\u001b[0;34m,\u001b[0m \u001b[0maxis\u001b[0m\u001b[0;34m=\u001b[0m\u001b[0maxis\u001b[0m\u001b[0;34m,\u001b[0m \u001b[0mskipna\u001b[0m\u001b[0;34m=\u001b[0m\u001b[0mskipna\u001b[0m\u001b[0;34m,\u001b[0m \u001b[0;34m**\u001b[0m\u001b[0mkwds\u001b[0m\u001b[0;34m)\u001b[0m\u001b[0;34m\u001b[0m\u001b[0;34m\u001b[0m\u001b[0m\n\u001b[0m\u001b[1;32m    148\u001b[0m \u001b[0;34m\u001b[0m\u001b[0m\n\u001b[1;32m    149\u001b[0m             \u001b[0;32mreturn\u001b[0m \u001b[0mresult\u001b[0m\u001b[0;34m\u001b[0m\u001b[0;34m\u001b[0m\u001b[0m\n",
            "\u001b[0;32m/usr/local/lib/python3.11/dist-packages/pandas/core/nanops.py\u001b[0m in \u001b[0;36mnew_func\u001b[0;34m(values, axis, skipna, mask, **kwargs)\u001b[0m\n\u001b[1;32m    402\u001b[0m             \u001b[0mmask\u001b[0m \u001b[0;34m=\u001b[0m \u001b[0misna\u001b[0m\u001b[0;34m(\u001b[0m\u001b[0mvalues\u001b[0m\u001b[0;34m)\u001b[0m\u001b[0;34m\u001b[0m\u001b[0;34m\u001b[0m\u001b[0m\n\u001b[1;32m    403\u001b[0m \u001b[0;34m\u001b[0m\u001b[0m\n\u001b[0;32m--> 404\u001b[0;31m         \u001b[0mresult\u001b[0m \u001b[0;34m=\u001b[0m \u001b[0mfunc\u001b[0m\u001b[0;34m(\u001b[0m\u001b[0mvalues\u001b[0m\u001b[0;34m,\u001b[0m \u001b[0maxis\u001b[0m\u001b[0;34m=\u001b[0m\u001b[0maxis\u001b[0m\u001b[0;34m,\u001b[0m \u001b[0mskipna\u001b[0m\u001b[0;34m=\u001b[0m\u001b[0mskipna\u001b[0m\u001b[0;34m,\u001b[0m \u001b[0mmask\u001b[0m\u001b[0;34m=\u001b[0m\u001b[0mmask\u001b[0m\u001b[0;34m,\u001b[0m \u001b[0;34m**\u001b[0m\u001b[0mkwargs\u001b[0m\u001b[0;34m)\u001b[0m\u001b[0;34m\u001b[0m\u001b[0;34m\u001b[0m\u001b[0m\n\u001b[0m\u001b[1;32m    405\u001b[0m \u001b[0;34m\u001b[0m\u001b[0m\n\u001b[1;32m    406\u001b[0m         \u001b[0;32mif\u001b[0m \u001b[0mdatetimelike\u001b[0m\u001b[0;34m:\u001b[0m\u001b[0;34m\u001b[0m\u001b[0;34m\u001b[0m\u001b[0m\n",
            "\u001b[0;32m/usr/local/lib/python3.11/dist-packages/pandas/core/nanops.py\u001b[0m in \u001b[0;36mnanmean\u001b[0;34m(values, axis, skipna, mask)\u001b[0m\n\u001b[1;32m    718\u001b[0m     \u001b[0mcount\u001b[0m \u001b[0;34m=\u001b[0m \u001b[0m_get_counts\u001b[0m\u001b[0;34m(\u001b[0m\u001b[0mvalues\u001b[0m\u001b[0;34m.\u001b[0m\u001b[0mshape\u001b[0m\u001b[0;34m,\u001b[0m \u001b[0mmask\u001b[0m\u001b[0;34m,\u001b[0m \u001b[0maxis\u001b[0m\u001b[0;34m,\u001b[0m \u001b[0mdtype\u001b[0m\u001b[0;34m=\u001b[0m\u001b[0mdtype_count\u001b[0m\u001b[0;34m)\u001b[0m\u001b[0;34m\u001b[0m\u001b[0;34m\u001b[0m\u001b[0m\n\u001b[1;32m    719\u001b[0m     \u001b[0mthe_sum\u001b[0m \u001b[0;34m=\u001b[0m \u001b[0mvalues\u001b[0m\u001b[0;34m.\u001b[0m\u001b[0msum\u001b[0m\u001b[0;34m(\u001b[0m\u001b[0maxis\u001b[0m\u001b[0;34m,\u001b[0m \u001b[0mdtype\u001b[0m\u001b[0;34m=\u001b[0m\u001b[0mdtype_sum\u001b[0m\u001b[0;34m)\u001b[0m\u001b[0;34m\u001b[0m\u001b[0;34m\u001b[0m\u001b[0m\n\u001b[0;32m--> 720\u001b[0;31m     \u001b[0mthe_sum\u001b[0m \u001b[0;34m=\u001b[0m \u001b[0m_ensure_numeric\u001b[0m\u001b[0;34m(\u001b[0m\u001b[0mthe_sum\u001b[0m\u001b[0;34m)\u001b[0m\u001b[0;34m\u001b[0m\u001b[0;34m\u001b[0m\u001b[0m\n\u001b[0m\u001b[1;32m    721\u001b[0m \u001b[0;34m\u001b[0m\u001b[0m\n\u001b[1;32m    722\u001b[0m     \u001b[0;32mif\u001b[0m \u001b[0maxis\u001b[0m \u001b[0;32mis\u001b[0m \u001b[0;32mnot\u001b[0m \u001b[0;32mNone\u001b[0m \u001b[0;32mand\u001b[0m \u001b[0mgetattr\u001b[0m\u001b[0;34m(\u001b[0m\u001b[0mthe_sum\u001b[0m\u001b[0;34m,\u001b[0m \u001b[0;34m\"ndim\"\u001b[0m\u001b[0;34m,\u001b[0m \u001b[0;32mFalse\u001b[0m\u001b[0;34m)\u001b[0m\u001b[0;34m:\u001b[0m\u001b[0;34m\u001b[0m\u001b[0;34m\u001b[0m\u001b[0m\n",
            "\u001b[0;32m/usr/local/lib/python3.11/dist-packages/pandas/core/nanops.py\u001b[0m in \u001b[0;36m_ensure_numeric\u001b[0;34m(x)\u001b[0m\n\u001b[1;32m   1699\u001b[0m         \u001b[0;32mif\u001b[0m \u001b[0misinstance\u001b[0m\u001b[0;34m(\u001b[0m\u001b[0mx\u001b[0m\u001b[0;34m,\u001b[0m \u001b[0mstr\u001b[0m\u001b[0;34m)\u001b[0m\u001b[0;34m:\u001b[0m\u001b[0;34m\u001b[0m\u001b[0;34m\u001b[0m\u001b[0m\n\u001b[1;32m   1700\u001b[0m             \u001b[0;31m# GH#44008, GH#36703 avoid casting e.g. strings to numeric\u001b[0m\u001b[0;34m\u001b[0m\u001b[0;34m\u001b[0m\u001b[0m\n\u001b[0;32m-> 1701\u001b[0;31m             \u001b[0;32mraise\u001b[0m \u001b[0mTypeError\u001b[0m\u001b[0;34m(\u001b[0m\u001b[0;34mf\"Could not convert string '{x}' to numeric\"\u001b[0m\u001b[0;34m)\u001b[0m\u001b[0;34m\u001b[0m\u001b[0;34m\u001b[0m\u001b[0m\n\u001b[0m\u001b[1;32m   1702\u001b[0m         \u001b[0;32mtry\u001b[0m\u001b[0;34m:\u001b[0m\u001b[0;34m\u001b[0m\u001b[0;34m\u001b[0m\u001b[0m\n\u001b[1;32m   1703\u001b[0m             \u001b[0mx\u001b[0m \u001b[0;34m=\u001b[0m \u001b[0mfloat\u001b[0m\u001b[0;34m(\u001b[0m\u001b[0mx\u001b[0m\u001b[0;34m)\u001b[0m\u001b[0;34m\u001b[0m\u001b[0;34m\u001b[0m\u001b[0m\n",
            "\u001b[0;31mTypeError\u001b[0m: Could not convert string '6743587457607642595466564259754554576748624464678053595260747268667074604468515862738059544433715551406775664659656780626363715771555867876854866349717437815979418566517243594376577954638076646372765857705673776771657672756167556657707940686465556644778050464950546777716471603472608554556775874646615978343983565588714952586780685474495052687458606974686170376576724266486067786643665833363983686378466056696654806869718755848077545140424447525383506382805944497175877055766265736567617173635045676671698070658340793864558456597559288559654663536666864759614693446164796843526758686268355567735850596053796764705565455749644066645243517959665058625771626771686676967045656469624859676159527771637276696867566965626743415558877260833162587565745765744060867185725271646286465856497662645370557665413650545248656566417242807267615552636257667750744262574074577148587054716768525666' to numeric"
          ]
        }
      ]
    },
    {
      "cell_type": "code",
      "source": [
        "# Convert 'idade' column to numeric, forcing non-numeric values to NaN\n",
        "severidade_1['idade'] = pd.to_numeric(severidade_1['idade'], errors='coerce')\n",
        "\n",
        "# Now calculate the mean, ignoring NaN values\n",
        "idade_media = severidade_1['idade'].mean(skipna=True)\n",
        "\n",
        "# Exibir a idade média\n",
        "print(idade_media)"
      ],
      "metadata": {
        "colab": {
          "base_uri": "https://localhost:8080/"
        },
        "id": "QXdlQNcHVHwm",
        "outputId": "9f575c44-5473-4b90-d799-7a07b96bab8c"
      },
      "execution_count": null,
      "outputs": [
        {
          "output_type": "stream",
          "name": "stdout",
          "text": [
            "62.25909090909091\n"
          ]
        },
        {
          "output_type": "stream",
          "name": "stderr",
          "text": [
            "<ipython-input-23-d3eebd7ac5e6>:2: SettingWithCopyWarning: \n",
            "A value is trying to be set on a copy of a slice from a DataFrame.\n",
            "Try using .loc[row_indexer,col_indexer] = value instead\n",
            "\n",
            "See the caveats in the documentation: https://pandas.pydata.org/pandas-docs/stable/user_guide/indexing.html#returning-a-view-versus-a-copy\n",
            "  severidade_1['idade'] = pd.to_numeric(severidade_1['idade'], errors='coerce')\n"
          ]
        }
      ]
    },
    {
      "cell_type": "code",
      "source": [
        "df['idade'] = df['idade'].replace('?', 62)\n"
      ],
      "metadata": {
        "id": "CXvy25UzZiAp"
      },
      "execution_count": null,
      "outputs": []
    },
    {
      "cell_type": "code",
      "source": [
        "linhas_com_interrogacao = df[df['idade'] == '?']\n",
        "print(linhas_com_interrogacao)"
      ],
      "metadata": {
        "colab": {
          "base_uri": "https://localhost:8080/"
        },
        "id": "SDtsQDbLZjYn",
        "outputId": "035d5f65-9df6-4ff4-b91e-4298c48ff9e1"
      },
      "execution_count": null,
      "outputs": [
        {
          "output_type": "stream",
          "name": "stdout",
          "text": [
            "Empty DataFrame\n",
            "Columns: [BI-RADS, idade, forma, contorno, densidade, severidade]\n",
            "Index: []\n"
          ]
        }
      ]
    },
    {
      "cell_type": "code",
      "source": [
        "linhas_ausentes = []\n",
        "for i in df.index:\n",
        "       if df.loc[i].isin(['?']).any():\n",
        "           linhas_ausentes.append(i)"
      ],
      "metadata": {
        "id": "bv8aj_EzZqaQ"
      },
      "execution_count": null,
      "outputs": []
    },
    {
      "cell_type": "code",
      "source": [
        "print(df.loc[linhas_ausentes])"
      ],
      "metadata": {
        "colab": {
          "base_uri": "https://localhost:8080/"
        },
        "id": "omgmSOENZwuI",
        "outputId": "5e0d26d1-197b-400a-d7fe-6df438f93670"
      },
      "execution_count": null,
      "outputs": [
        {
          "output_type": "stream",
          "name": "stdout",
          "text": [
            "    BI-RADS idade forma contorno densidade  severidade\n",
            "1         4    43     1        1         ?           1\n",
            "4         5    74     1        5         ?           1\n",
            "5         4    65     1        ?         3           0\n",
            "6         4    70     ?        ?         3           0\n",
            "7         5    42     1        ?         3           0\n",
            "..      ...   ...   ...      ...       ...         ...\n",
            "745       6    76     3        ?         3           0\n",
            "752       5    48     ?        4         ?           1\n",
            "778       4    60     ?        4         3           0\n",
            "819       4    35     3        ?         2           0\n",
            "824       6    40     ?        3         4           1\n",
            "\n",
            "[125 rows x 6 columns]\n"
          ]
        }
      ]
    },
    {
      "cell_type": "code",
      "source": [
        "valores_ausentes = df[df.eq('?').any(axis=1)]# Exibir as linhas com valores ausentes"
      ],
      "metadata": {
        "id": "3Lu3DvffaAOg"
      },
      "execution_count": null,
      "outputs": []
    },
    {
      "cell_type": "code",
      "source": [
        "print(valores_ausentes)"
      ],
      "metadata": {
        "colab": {
          "base_uri": "https://localhost:8080/"
        },
        "id": "1hvNGmagaCtE",
        "outputId": "3cbd0d44-1f72-4f89-e46e-1172e7ad58bf"
      },
      "execution_count": null,
      "outputs": [
        {
          "output_type": "stream",
          "name": "stdout",
          "text": [
            "    BI-RADS idade forma contorno densidade  severidade\n",
            "1         4    43     1        1         ?           1\n",
            "4         5    74     1        5         ?           1\n",
            "5         4    65     1        ?         3           0\n",
            "6         4    70     ?        ?         3           0\n",
            "7         5    42     1        ?         3           0\n",
            "..      ...   ...   ...      ...       ...         ...\n",
            "745       6    76     3        ?         3           0\n",
            "752       5    48     ?        4         ?           1\n",
            "778       4    60     ?        4         3           0\n",
            "819       4    35     3        ?         2           0\n",
            "824       6    40     ?        3         4           1\n",
            "\n",
            "[125 rows x 6 columns]\n"
          ]
        }
      ]
    },
    {
      "cell_type": "code",
      "source": [
        "linhas_ausentes_forma = df[df['forma'] == '?']\n",
        "print(linhas_ausentes_forma)"
      ],
      "metadata": {
        "colab": {
          "base_uri": "https://localhost:8080/"
        },
        "id": "o9M4K9omaeDg",
        "outputId": "acb96c8f-a107-45ae-ca0c-1fa54e4e2f55"
      },
      "execution_count": null,
      "outputs": [
        {
          "output_type": "stream",
          "name": "stdout",
          "text": [
            "    BI-RADS idade forma contorno densidade  severidade\n",
            "6         4    70     ?        ?         3           0\n",
            "9         5    60     ?        5         1           1\n",
            "20        ?    66     ?        ?         1           1\n",
            "48        2    42     ?        ?         4           0\n",
            "54        4    53     ?        5         3           1\n",
            "74        5    70     ?        4         ?           1\n",
            "83        4    57     ?        4         1           0\n",
            "128       4    52     ?        4         ?           0\n",
            "157       4    51     ?        ?         3           0\n",
            "163       4    53     ?        4         3           0\n",
            "236       3    60     ?        3         1           0\n",
            "255       3    76     ?        3         2           0\n",
            "387       5    64     ?        ?         3           0\n",
            "388       2    49     ?        3         3           0\n",
            "389       3    44     ?        4         3           0\n",
            "394       4    34     ?        ?         4           0\n",
            "476       4    41     ?        ?         3           0\n",
            "496       4    82     ?        5         3           1\n",
            "519       3    68     ?        ?         3           0\n",
            "531       4    55     ?        ?         3           0\n",
            "537       5    63     ?        4         3           1\n",
            "554       5    70     ?        5         3           1\n",
            "561       2    59     ?        4         3           0\n",
            "581       2    65     ?        1         2           0\n",
            "614       3    46     ?        5         ?           1\n",
            "660       4    58     ?        4         3           1\n",
            "661       4    51     ?        4         3           0\n",
            "662       3    50     ?        ?         3           1\n",
            "752       5    48     ?        4         ?           1\n",
            "778       4    60     ?        4         3           0\n",
            "824       6    40     ?        3         4           1\n"
          ]
        }
      ]
    },
    {
      "cell_type": "code",
      "source": [
        "df2 = df[df['forma'] != '?']"
      ],
      "metadata": {
        "id": "5fyN9xvjcpe2"
      },
      "execution_count": null,
      "outputs": []
    },
    {
      "cell_type": "code",
      "source": [
        "# dataframe com exclusão de ausentes na coluna forma\n",
        "print(df2)"
      ],
      "metadata": {
        "colab": {
          "base_uri": "https://localhost:8080/"
        },
        "id": "vENbeJ5jcq4-",
        "outputId": "b7071ac3-a6b5-47b5-95db-ccd71b410e35"
      },
      "execution_count": null,
      "outputs": [
        {
          "output_type": "stream",
          "name": "stdout",
          "text": [
            "    BI-RADS idade forma contorno densidade  severidade\n",
            "0         5    67     3        5         3           1\n",
            "1         4    43     1        1         ?           1\n",
            "2         5    58     4        5         3           1\n",
            "3         4    28     1        1         3           0\n",
            "4         5    74     1        5         ?           1\n",
            "..      ...   ...   ...      ...       ...         ...\n",
            "956       4    47     2        1         3           0\n",
            "957       4    56     4        5         3           1\n",
            "958       4    64     4        5         3           0\n",
            "959       5    66     4        5         3           1\n",
            "960       4    62     3        3         3           0\n",
            "\n",
            "[930 rows x 6 columns]\n"
          ]
        }
      ]
    },
    {
      "cell_type": "markdown",
      "source": [],
      "metadata": {
        "id": "Q0qlYbEedHV1"
      }
    },
    {
      "cell_type": "code",
      "source": [
        "severidade_1 = df[df['severidade'] == 1]\n",
        "frequencia_forma_severidade_1 = severidade_1['forma'].value_counts()\n",
        "print(frequencia_forma_severidade_1)"
      ],
      "metadata": {
        "colab": {
          "base_uri": "https://localhost:8080/"
        },
        "id": "1T1AEGErdhjZ",
        "outputId": "d2e00f84-ddcf-4f07-be4d-bb148baeafe3"
      },
      "execution_count": null,
      "outputs": [
        {
          "output_type": "stream",
          "name": "stdout",
          "text": [
            "forma\n",
            "4    315\n",
            "3     45\n",
            "1     38\n",
            "2     35\n",
            "?     12\n",
            "Name: count, dtype: int64\n"
          ]
        }
      ]
    },
    {
      "cell_type": "code",
      "source": [
        "# Filtrar as linhas com 'forma' igual a '?' e 'severidade' igual a 1\n",
        "linhas_selecionadas = df[(df['forma'] == '?') & (df['severidade'] == 1)]\n",
        "\n",
        "# Atribuir o valor 4 para a coluna 'forma' nas linhas selecionadas\n",
        "df.loc[linhas_selecionadas.index, 'forma'] = 4"
      ],
      "metadata": {
        "id": "7d0We1D6i1n3"
      },
      "execution_count": null,
      "outputs": []
    },
    {
      "cell_type": "code",
      "source": [
        "severidade_0 = df[df['severidade'] == 0]\n",
        "frequencia_forma_severidade_0 = severidade_0['forma'].value_counts()\n",
        "print(frequencia_forma_severidade_0)"
      ],
      "metadata": {
        "colab": {
          "base_uri": "https://localhost:8080/"
        },
        "id": "4LOGKA6pkv6x",
        "outputId": "a2d3e363-7dd2-4b58-9a38-6418c1ab5ebb"
      },
      "execution_count": null,
      "outputs": [
        {
          "output_type": "stream",
          "name": "stdout",
          "text": [
            "forma\n",
            "1    186\n",
            "2    176\n",
            "4     85\n",
            "3     50\n",
            "?     19\n",
            "Name: count, dtype: int64\n"
          ]
        }
      ]
    },
    {
      "cell_type": "code",
      "source": [
        "# Filtrar as linhas com 'forma' igual a '?' e 'severidade' igual a 0\n",
        "linhas_selecionadas = df[(df['forma'] == '?') & (df['severidade'] == 0)]\n",
        "\n",
        "# Atribuir o valor 4 para a coluna 'forma' nas linhas selecionadas\n",
        "df.loc[linhas_selecionadas.index, 'forma'] = 1"
      ],
      "metadata": {
        "id": "pg7QiePZkyo0"
      },
      "execution_count": null,
      "outputs": []
    },
    {
      "cell_type": "code",
      "source": [
        "valores_ausentes = df[df.eq('?').any(axis=1)]\n",
        "print(valores_ausentes)\n"
      ],
      "metadata": {
        "id": "3OldKgm3kzsc"
      },
      "execution_count": null,
      "outputs": []
    },
    {
      "cell_type": "code",
      "source": [
        "linhas_com_interrogacao_contorno = df[df['contorno'] == '?']\n",
        "print(linhas_com_interrogacao_contorno)"
      ],
      "metadata": {
        "id": "AzKE7p5Yb6gb"
      },
      "execution_count": null,
      "outputs": []
    },
    {
      "cell_type": "code",
      "source": [
        "df['contorno'] = df['contorno'].replace('?', pd.NA)"
      ],
      "metadata": {
        "id": "7TKuff8Eb8_r"
      },
      "execution_count": null,
      "outputs": []
    },
    {
      "cell_type": "code",
      "source": [
        "valores_nulos_contorno = df[df['contorno'].isnull()]\n",
        "print(valores_nulos_contorno)"
      ],
      "metadata": {
        "id": "9dFUandQcAVq"
      },
      "execution_count": null,
      "outputs": []
    },
    {
      "cell_type": "code",
      "source": [
        "#@title NOVO MODELO TRATADO"
      ],
      "metadata": {
        "id": "QOD1IOO6c7rH"
      },
      "execution_count": null,
      "outputs": []
    },
    {
      "cell_type": "code",
      "source": [
        "# 1. Importar bibliotecas\n",
        "import pandas as pd\n",
        "from google.colab import files\n",
        "\n",
        "# 2. Fazer upload do arquivo\n",
        "uploaded = files.upload()\n",
        "\n",
        "# 3. Ler o dataset\n",
        "df = pd.read_csv('mamografia_cta.csv', header=None)\n",
        "\n"
      ],
      "metadata": {
        "colab": {
          "base_uri": "https://localhost:8080/",
          "height": 73
        },
        "id": "uJJaWiCwdW5b",
        "outputId": "b9b42c1c-0b55-4b40-b181-5e971b3b6c6b"
      },
      "execution_count": null,
      "outputs": [
        {
          "output_type": "display_data",
          "data": {
            "text/plain": [
              "<IPython.core.display.HTML object>"
            ],
            "text/html": [
              "\n",
              "     <input type=\"file\" id=\"files-5512eeab-2d5d-4370-8bf5-03513d1eeb5b\" name=\"files[]\" multiple disabled\n",
              "        style=\"border:none\" />\n",
              "     <output id=\"result-5512eeab-2d5d-4370-8bf5-03513d1eeb5b\">\n",
              "      Upload widget is only available when the cell has been executed in the\n",
              "      current browser session. Please rerun this cell to enable.\n",
              "      </output>\n",
              "      <script>// Copyright 2017 Google LLC\n",
              "//\n",
              "// Licensed under the Apache License, Version 2.0 (the \"License\");\n",
              "// you may not use this file except in compliance with the License.\n",
              "// You may obtain a copy of the License at\n",
              "//\n",
              "//      http://www.apache.org/licenses/LICENSE-2.0\n",
              "//\n",
              "// Unless required by applicable law or agreed to in writing, software\n",
              "// distributed under the License is distributed on an \"AS IS\" BASIS,\n",
              "// WITHOUT WARRANTIES OR CONDITIONS OF ANY KIND, either express or implied.\n",
              "// See the License for the specific language governing permissions and\n",
              "// limitations under the License.\n",
              "\n",
              "/**\n",
              " * @fileoverview Helpers for google.colab Python module.\n",
              " */\n",
              "(function(scope) {\n",
              "function span(text, styleAttributes = {}) {\n",
              "  const element = document.createElement('span');\n",
              "  element.textContent = text;\n",
              "  for (const key of Object.keys(styleAttributes)) {\n",
              "    element.style[key] = styleAttributes[key];\n",
              "  }\n",
              "  return element;\n",
              "}\n",
              "\n",
              "// Max number of bytes which will be uploaded at a time.\n",
              "const MAX_PAYLOAD_SIZE = 100 * 1024;\n",
              "\n",
              "function _uploadFiles(inputId, outputId) {\n",
              "  const steps = uploadFilesStep(inputId, outputId);\n",
              "  const outputElement = document.getElementById(outputId);\n",
              "  // Cache steps on the outputElement to make it available for the next call\n",
              "  // to uploadFilesContinue from Python.\n",
              "  outputElement.steps = steps;\n",
              "\n",
              "  return _uploadFilesContinue(outputId);\n",
              "}\n",
              "\n",
              "// This is roughly an async generator (not supported in the browser yet),\n",
              "// where there are multiple asynchronous steps and the Python side is going\n",
              "// to poll for completion of each step.\n",
              "// This uses a Promise to block the python side on completion of each step,\n",
              "// then passes the result of the previous step as the input to the next step.\n",
              "function _uploadFilesContinue(outputId) {\n",
              "  const outputElement = document.getElementById(outputId);\n",
              "  const steps = outputElement.steps;\n",
              "\n",
              "  const next = steps.next(outputElement.lastPromiseValue);\n",
              "  return Promise.resolve(next.value.promise).then((value) => {\n",
              "    // Cache the last promise value to make it available to the next\n",
              "    // step of the generator.\n",
              "    outputElement.lastPromiseValue = value;\n",
              "    return next.value.response;\n",
              "  });\n",
              "}\n",
              "\n",
              "/**\n",
              " * Generator function which is called between each async step of the upload\n",
              " * process.\n",
              " * @param {string} inputId Element ID of the input file picker element.\n",
              " * @param {string} outputId Element ID of the output display.\n",
              " * @return {!Iterable<!Object>} Iterable of next steps.\n",
              " */\n",
              "function* uploadFilesStep(inputId, outputId) {\n",
              "  const inputElement = document.getElementById(inputId);\n",
              "  inputElement.disabled = false;\n",
              "\n",
              "  const outputElement = document.getElementById(outputId);\n",
              "  outputElement.innerHTML = '';\n",
              "\n",
              "  const pickedPromise = new Promise((resolve) => {\n",
              "    inputElement.addEventListener('change', (e) => {\n",
              "      resolve(e.target.files);\n",
              "    });\n",
              "  });\n",
              "\n",
              "  const cancel = document.createElement('button');\n",
              "  inputElement.parentElement.appendChild(cancel);\n",
              "  cancel.textContent = 'Cancel upload';\n",
              "  const cancelPromise = new Promise((resolve) => {\n",
              "    cancel.onclick = () => {\n",
              "      resolve(null);\n",
              "    };\n",
              "  });\n",
              "\n",
              "  // Wait for the user to pick the files.\n",
              "  const files = yield {\n",
              "    promise: Promise.race([pickedPromise, cancelPromise]),\n",
              "    response: {\n",
              "      action: 'starting',\n",
              "    }\n",
              "  };\n",
              "\n",
              "  cancel.remove();\n",
              "\n",
              "  // Disable the input element since further picks are not allowed.\n",
              "  inputElement.disabled = true;\n",
              "\n",
              "  if (!files) {\n",
              "    return {\n",
              "      response: {\n",
              "        action: 'complete',\n",
              "      }\n",
              "    };\n",
              "  }\n",
              "\n",
              "  for (const file of files) {\n",
              "    const li = document.createElement('li');\n",
              "    li.append(span(file.name, {fontWeight: 'bold'}));\n",
              "    li.append(span(\n",
              "        `(${file.type || 'n/a'}) - ${file.size} bytes, ` +\n",
              "        `last modified: ${\n",
              "            file.lastModifiedDate ? file.lastModifiedDate.toLocaleDateString() :\n",
              "                                    'n/a'} - `));\n",
              "    const percent = span('0% done');\n",
              "    li.appendChild(percent);\n",
              "\n",
              "    outputElement.appendChild(li);\n",
              "\n",
              "    const fileDataPromise = new Promise((resolve) => {\n",
              "      const reader = new FileReader();\n",
              "      reader.onload = (e) => {\n",
              "        resolve(e.target.result);\n",
              "      };\n",
              "      reader.readAsArrayBuffer(file);\n",
              "    });\n",
              "    // Wait for the data to be ready.\n",
              "    let fileData = yield {\n",
              "      promise: fileDataPromise,\n",
              "      response: {\n",
              "        action: 'continue',\n",
              "      }\n",
              "    };\n",
              "\n",
              "    // Use a chunked sending to avoid message size limits. See b/62115660.\n",
              "    let position = 0;\n",
              "    do {\n",
              "      const length = Math.min(fileData.byteLength - position, MAX_PAYLOAD_SIZE);\n",
              "      const chunk = new Uint8Array(fileData, position, length);\n",
              "      position += length;\n",
              "\n",
              "      const base64 = btoa(String.fromCharCode.apply(null, chunk));\n",
              "      yield {\n",
              "        response: {\n",
              "          action: 'append',\n",
              "          file: file.name,\n",
              "          data: base64,\n",
              "        },\n",
              "      };\n",
              "\n",
              "      let percentDone = fileData.byteLength === 0 ?\n",
              "          100 :\n",
              "          Math.round((position / fileData.byteLength) * 100);\n",
              "      percent.textContent = `${percentDone}% done`;\n",
              "\n",
              "    } while (position < fileData.byteLength);\n",
              "  }\n",
              "\n",
              "  // All done.\n",
              "  yield {\n",
              "    response: {\n",
              "      action: 'complete',\n",
              "    }\n",
              "  };\n",
              "}\n",
              "\n",
              "scope.google = scope.google || {};\n",
              "scope.google.colab = scope.google.colab || {};\n",
              "scope.google.colab._files = {\n",
              "  _uploadFiles,\n",
              "  _uploadFilesContinue,\n",
              "};\n",
              "})(self);\n",
              "</script> "
            ]
          },
          "metadata": {}
        },
        {
          "output_type": "stream",
          "name": "stdout",
          "text": [
            "Saving mamografia_cta.csv to mamografia_cta (2).csv\n"
          ]
        }
      ]
    },
    {
      "cell_type": "code",
      "source": [
        "# 4. Adicionar cabeçalho\n",
        "df.columns = ['BI-RADS', 'idade', 'forma', 'contorno', 'densidade', 'severidade']"
      ],
      "metadata": {
        "id": "72swwvdeeOGu"
      },
      "execution_count": null,
      "outputs": []
    },
    {
      "cell_type": "code",
      "source": [
        "import pandas as pd\n",
        "from sklearn.model_selection import train_test_split\n",
        "from sklearn.tree import DecisionTreeClassifier\n",
        "from sklearn.metrics import accuracy_score, classification_report, confusion_matrix\n",
        "import matplotlib.pyplot as plt\n",
        "import seaborn as sns\n",
        "\n",
        "# Changed 'Idade' to 'idade' to match the actual column name\n",
        "X = df[['BI-RADS', 'idade', 'forma', 'contorno', 'densidade']]\n",
        "y = df['severidade']\n",
        "X_train, X_test, y_train, y_test = train_test_split(X, y, test_size=0.2, random_state=42)\n",
        "\n",
        "print(\"Dimensões do conjunto de treinamento:\", X_train.shape, y_train.shape)\n",
        "print(\"Dimensões do conjunto de teste:\", X_test.shape, y_test.shape)"
      ],
      "metadata": {
        "colab": {
          "base_uri": "https://localhost:8080/"
        },
        "id": "BClFpl8defYb",
        "outputId": "3906fe4a-7850-4746-928d-0896da039d41"
      },
      "execution_count": null,
      "outputs": [
        {
          "output_type": "stream",
          "name": "stdout",
          "text": [
            "Dimensões do conjunto de treinamento: (769, 5) (769,)\n",
            "Dimensões do conjunto de teste: (193, 5) (193,)\n"
          ]
        }
      ]
    }
  ]
}